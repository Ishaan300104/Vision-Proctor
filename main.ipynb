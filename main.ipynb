{
 "cells": [
  {
   "cell_type": "markdown",
   "metadata": {},
   "source": [
    "### Installing modules and dependencies\n"
   ]
  },
  {
   "cell_type": "code",
   "execution_count": null,
   "metadata": {},
   "outputs": [],
   "source": [
    "# Installing modules\n",
    "%pip install torch torchvision torchaudio\n",
    "%pip install pyqt5 lxml --upgrade"
   ]
  },
  {
   "cell_type": "code",
   "execution_count": null,
   "metadata": {},
   "outputs": [],
   "source": [
    "# Cloning the YOLOv5 repository to our device\n",
    "!git clone https://github.com/ultralytics/yolov5"
   ]
  },
  {
   "cell_type": "code",
   "execution_count": null,
   "metadata": {},
   "outputs": [],
   "source": [
    "# Installing other requirements\n",
    "!cd yolov5\n",
    "%pip install -r yolov5\\requirements.txt"
   ]
  },
  {
   "cell_type": "markdown",
   "metadata": {},
   "source": [
    "### Loading the model and making sure YOLO works on webcam"
   ]
  },
  {
   "cell_type": "code",
   "execution_count": 8,
   "metadata": {},
   "outputs": [],
   "source": [
    "# Imports\n",
    "import torch\n",
    "import numpy as np\n",
    "import matplotlib.pyplot as plt\n",
    "import cv2\n",
    "import uuid # Unique identifier\n",
    "import os\n",
    "import time"
   ]
  },
  {
   "cell_type": "code",
   "execution_count": null,
   "metadata": {},
   "outputs": [],
   "source": [
    "# Defining our model\n",
    "model = torch.hub.load('ultralytics/yolov5', 'yolov5s')\n",
    "print(model)"
   ]
  },
  {
   "cell_type": "code",
   "execution_count": null,
   "metadata": {},
   "outputs": [],
   "source": [
    "# Checking whether YOLOv5 is working or not\n",
    "\n",
    "cap = cv2.VideoCapture(0)\n",
    "while cap.isOpened():\n",
    "    ret, frame = cap.read()\n",
    "    \n",
    "    # Make detections \n",
    "    results = model(frame)\n",
    "    \n",
    "    cv2.imshow('YOLO', np.squeeze(results.render()))\n",
    "    \n",
    "    if cv2.waitKey(10) & 0xFF == ord('q'):\n",
    "        break\n",
    "cap.release()\n",
    "cv2.destroyAllWindows()"
   ]
  },
  {
   "cell_type": "markdown",
   "metadata": {},
   "source": [
    "### Preparing data (can also be done using script \"capture-data.py\")"
   ]
  },
  {
   "cell_type": "code",
   "execution_count": 63,
   "metadata": {},
   "outputs": [],
   "source": [
    "# Defining data directory and classes for prediction\n",
    "\n",
    "IMAGES_PATH = os.path.join('data', 'images') # /data/images\n",
    "labels = ['Covering mouth (WARNING!)', 'speaking or laughing (WARNING!)' , 'looking on screen or thinking (Normal)']\n",
    "number_imgs = 15"
   ]
  },
  {
   "cell_type": "code",
   "execution_count": 64,
   "metadata": {},
   "outputs": [
    {
     "name": "stdout",
     "output_type": "stream",
     "text": [
      "Collecting images for Covering mouth (WARNING!)\n",
      "Collecting images for Covering mouth (WARNING!), image number 0\n",
      "Collecting images for Covering mouth (WARNING!), image number 1\n",
      "Collecting images for Covering mouth (WARNING!), image number 2\n",
      "Collecting images for Covering mouth (WARNING!), image number 3\n",
      "Collecting images for Covering mouth (WARNING!), image number 4\n",
      "Collecting images for Covering mouth (WARNING!), image number 5\n",
      "Collecting images for Covering mouth (WARNING!), image number 6\n",
      "Collecting images for Covering mouth (WARNING!), image number 7\n",
      "Collecting images for Covering mouth (WARNING!), image number 8\n",
      "Collecting images for Covering mouth (WARNING!), image number 9\n",
      "Collecting images for Covering mouth (WARNING!), image number 10\n",
      "Collecting images for Covering mouth (WARNING!), image number 11\n",
      "Collecting images for Covering mouth (WARNING!), image number 12\n",
      "Collecting images for Covering mouth (WARNING!), image number 13\n",
      "Collecting images for Covering mouth (WARNING!), image number 14\n",
      "Collecting images for speaking or laughing (WARNING!)\n",
      "Collecting images for speaking or laughing (WARNING!), image number 0\n",
      "Collecting images for speaking or laughing (WARNING!), image number 1\n",
      "Collecting images for speaking or laughing (WARNING!), image number 2\n",
      "Collecting images for speaking or laughing (WARNING!), image number 3\n",
      "Collecting images for speaking or laughing (WARNING!), image number 4\n",
      "Collecting images for speaking or laughing (WARNING!), image number 5\n",
      "Collecting images for speaking or laughing (WARNING!), image number 6\n",
      "Collecting images for speaking or laughing (WARNING!), image number 7\n",
      "Collecting images for speaking or laughing (WARNING!), image number 8\n",
      "Collecting images for speaking or laughing (WARNING!), image number 9\n",
      "Collecting images for speaking or laughing (WARNING!), image number 10\n",
      "Collecting images for speaking or laughing (WARNING!), image number 11\n",
      "Collecting images for speaking or laughing (WARNING!), image number 12\n",
      "Collecting images for speaking or laughing (WARNING!), image number 13\n",
      "Collecting images for speaking or laughing (WARNING!), image number 14\n",
      "Collecting images for looking on screen or thinking (Normal)\n",
      "Collecting images for looking on screen or thinking (Normal), image number 0\n",
      "Collecting images for looking on screen or thinking (Normal), image number 1\n",
      "Collecting images for looking on screen or thinking (Normal), image number 2\n",
      "Collecting images for looking on screen or thinking (Normal), image number 3\n",
      "Collecting images for looking on screen or thinking (Normal), image number 4\n",
      "Collecting images for looking on screen or thinking (Normal), image number 5\n",
      "Collecting images for looking on screen or thinking (Normal), image number 6\n",
      "Collecting images for looking on screen or thinking (Normal), image number 7\n",
      "Collecting images for looking on screen or thinking (Normal), image number 8\n",
      "Collecting images for looking on screen or thinking (Normal), image number 9\n",
      "Collecting images for looking on screen or thinking (Normal), image number 10\n",
      "Collecting images for looking on screen or thinking (Normal), image number 11\n",
      "Collecting images for looking on screen or thinking (Normal), image number 12\n",
      "Collecting images for looking on screen or thinking (Normal), image number 13\n",
      "Collecting images for looking on screen or thinking (Normal), image number 14\n"
     ]
    }
   ],
   "source": [
    "# Capturing images for fine-tuning YOLOv5 model\n",
    "\n",
    "cap = cv2.VideoCapture(0)\n",
    "# Loop through labels\n",
    "for label in labels:\n",
    "    print('Collecting images for {}'.format(label))\n",
    "    time.sleep(4)\n",
    "    \n",
    "    # Loop through image range\n",
    "    for img_num in range(number_imgs):\n",
    "        print('Collecting images for {}, image number {}'.format(label, img_num))\n",
    "        \n",
    "        # Webcam feed\n",
    "        ret, frame = cap.read()\n",
    "        \n",
    "        # Naming out image path\n",
    "        imgname = os.path.join(IMAGES_PATH, label+'.'+str(uuid.uuid1())+'.jpg')\n",
    "        \n",
    "        # Writes out image to file \n",
    "        cv2.imwrite(imgname, frame)\n",
    "        \n",
    "        # Render to the screen\n",
    "        cv2.imshow('Image Collection', frame)\n",
    "        \n",
    "        # 2 second delay between captures\n",
    "        time.sleep(2)\n",
    "        \n",
    "        if cv2.waitKey(10) & 0xFF == ord('q'):\n",
    "            break\n",
    "cap.release()\n",
    "cv2.destroyAllWindows()"
   ]
  },
  {
   "cell_type": "code",
   "execution_count": 101,
   "metadata": {},
   "outputs": [
    {
     "name": "stdout",
     "output_type": "stream",
     "text": [
      "data\\images\\Covering mouth (WARNING!).07885216-87c6-11ef-9250-b48c9d378590.jpg\n"
     ]
    }
   ],
   "source": [
    "# Concatenating image name and path\n",
    "print(os.path.join(IMAGES_PATH, labels[0]+'.'+str(uuid.uuid1())+'.jpg'))"
   ]
  },
  {
   "cell_type": "code",
   "execution_count": 65,
   "metadata": {},
   "outputs": [
    {
     "name": "stdout",
     "output_type": "stream",
     "text": [
      "Collecting images for Covering mouth (WARNING!)\n",
      "Collecting images for Covering mouth (WARNING!), image number 0\n",
      "data\\images\\Covering mouth (WARNING!).bfda038a-87ff-11ef-828d-b48c9d378590.jpg\n",
      "Collecting images for Covering mouth (WARNING!), image number 1\n",
      "data\\images\\Covering mouth (WARNING!).bfda038b-87ff-11ef-b237-b48c9d378590.jpg\n",
      "Collecting images for Covering mouth (WARNING!), image number 2\n",
      "data\\images\\Covering mouth (WARNING!).bfda038c-87ff-11ef-b6e3-b48c9d378590.jpg\n",
      "Collecting images for Covering mouth (WARNING!), image number 3\n",
      "data\\images\\Covering mouth (WARNING!).bfda038d-87ff-11ef-a8d8-b48c9d378590.jpg\n",
      "Collecting images for Covering mouth (WARNING!), image number 4\n",
      "data\\images\\Covering mouth (WARNING!).bfda038e-87ff-11ef-965d-b48c9d378590.jpg\n",
      "Collecting images for Covering mouth (WARNING!), image number 5\n",
      "data\\images\\Covering mouth (WARNING!).bfda038f-87ff-11ef-bf5b-b48c9d378590.jpg\n",
      "Collecting images for Covering mouth (WARNING!), image number 6\n",
      "data\\images\\Covering mouth (WARNING!).bfda0390-87ff-11ef-8e83-b48c9d378590.jpg\n",
      "Collecting images for Covering mouth (WARNING!), image number 7\n",
      "data\\images\\Covering mouth (WARNING!).bfda0391-87ff-11ef-a8ee-b48c9d378590.jpg\n",
      "Collecting images for Covering mouth (WARNING!), image number 8\n",
      "data\\images\\Covering mouth (WARNING!).bfda0392-87ff-11ef-8a60-b48c9d378590.jpg\n",
      "Collecting images for Covering mouth (WARNING!), image number 9\n",
      "data\\images\\Covering mouth (WARNING!).bfda0393-87ff-11ef-903d-b48c9d378590.jpg\n",
      "Collecting images for Covering mouth (WARNING!), image number 10\n",
      "data\\images\\Covering mouth (WARNING!).bfda0394-87ff-11ef-a45f-b48c9d378590.jpg\n",
      "Collecting images for Covering mouth (WARNING!), image number 11\n",
      "data\\images\\Covering mouth (WARNING!).bfda0395-87ff-11ef-b1f9-b48c9d378590.jpg\n",
      "Collecting images for Covering mouth (WARNING!), image number 12\n",
      "data\\images\\Covering mouth (WARNING!).bfda0396-87ff-11ef-a950-b48c9d378590.jpg\n",
      "Collecting images for Covering mouth (WARNING!), image number 13\n",
      "data\\images\\Covering mouth (WARNING!).bfda0397-87ff-11ef-a60f-b48c9d378590.jpg\n",
      "Collecting images for Covering mouth (WARNING!), image number 14\n",
      "data\\images\\Covering mouth (WARNING!).bfda0398-87ff-11ef-b490-b48c9d378590.jpg\n",
      "Collecting images for speaking or laughing (WARNING!)\n",
      "Collecting images for speaking or laughing (WARNING!), image number 0\n",
      "data\\images\\speaking or laughing (WARNING!).bfda0399-87ff-11ef-8415-b48c9d378590.jpg\n",
      "Collecting images for speaking or laughing (WARNING!), image number 1\n",
      "data\\images\\speaking or laughing (WARNING!).bfda039a-87ff-11ef-888f-b48c9d378590.jpg\n",
      "Collecting images for speaking or laughing (WARNING!), image number 2\n",
      "data\\images\\speaking or laughing (WARNING!).bfda039b-87ff-11ef-8e40-b48c9d378590.jpg\n",
      "Collecting images for speaking or laughing (WARNING!), image number 3\n",
      "data\\images\\speaking or laughing (WARNING!).bfda039c-87ff-11ef-aa26-b48c9d378590.jpg\n",
      "Collecting images for speaking or laughing (WARNING!), image number 4\n",
      "data\\images\\speaking or laughing (WARNING!).bfda039d-87ff-11ef-bccb-b48c9d378590.jpg\n",
      "Collecting images for speaking or laughing (WARNING!), image number 5\n",
      "data\\images\\speaking or laughing (WARNING!).bfda039e-87ff-11ef-82fd-b48c9d378590.jpg\n",
      "Collecting images for speaking or laughing (WARNING!), image number 6\n",
      "data\\images\\speaking or laughing (WARNING!).bfda039f-87ff-11ef-ac0d-b48c9d378590.jpg\n",
      "Collecting images for speaking or laughing (WARNING!), image number 7\n",
      "data\\images\\speaking or laughing (WARNING!).bfda03a0-87ff-11ef-a5de-b48c9d378590.jpg\n",
      "Collecting images for speaking or laughing (WARNING!), image number 8\n",
      "data\\images\\speaking or laughing (WARNING!).bfda03a1-87ff-11ef-b8f1-b48c9d378590.jpg\n",
      "Collecting images for speaking or laughing (WARNING!), image number 9\n",
      "data\\images\\speaking or laughing (WARNING!).bfda03a2-87ff-11ef-a089-b48c9d378590.jpg\n",
      "Collecting images for speaking or laughing (WARNING!), image number 10\n",
      "data\\images\\speaking or laughing (WARNING!).bfda03a3-87ff-11ef-9ee0-b48c9d378590.jpg\n",
      "Collecting images for speaking or laughing (WARNING!), image number 11\n",
      "data\\images\\speaking or laughing (WARNING!).bfda03a4-87ff-11ef-a8a4-b48c9d378590.jpg\n",
      "Collecting images for speaking or laughing (WARNING!), image number 12\n",
      "data\\images\\speaking or laughing (WARNING!).bfda03a5-87ff-11ef-9d7d-b48c9d378590.jpg\n",
      "Collecting images for speaking or laughing (WARNING!), image number 13\n",
      "data\\images\\speaking or laughing (WARNING!).bfda03a6-87ff-11ef-987f-b48c9d378590.jpg\n",
      "Collecting images for speaking or laughing (WARNING!), image number 14\n",
      "data\\images\\speaking or laughing (WARNING!).bfda03a7-87ff-11ef-b9c6-b48c9d378590.jpg\n",
      "Collecting images for looking on screen or thinking (Normal)\n",
      "Collecting images for looking on screen or thinking (Normal), image number 0\n",
      "data\\images\\looking on screen or thinking (Normal).bfda03a8-87ff-11ef-8aba-b48c9d378590.jpg\n",
      "Collecting images for looking on screen or thinking (Normal), image number 1\n",
      "data\\images\\looking on screen or thinking (Normal).bfda03a9-87ff-11ef-a80c-b48c9d378590.jpg\n",
      "Collecting images for looking on screen or thinking (Normal), image number 2\n",
      "data\\images\\looking on screen or thinking (Normal).bfda03aa-87ff-11ef-8d2a-b48c9d378590.jpg\n",
      "Collecting images for looking on screen or thinking (Normal), image number 3\n",
      "data\\images\\looking on screen or thinking (Normal).bfda4370-87ff-11ef-ae00-b48c9d378590.jpg\n",
      "Collecting images for looking on screen or thinking (Normal), image number 4\n",
      "data\\images\\looking on screen or thinking (Normal).bfda4371-87ff-11ef-b849-b48c9d378590.jpg\n",
      "Collecting images for looking on screen or thinking (Normal), image number 5\n",
      "data\\images\\looking on screen or thinking (Normal).bfda4372-87ff-11ef-9bf6-b48c9d378590.jpg\n",
      "Collecting images for looking on screen or thinking (Normal), image number 6\n",
      "data\\images\\looking on screen or thinking (Normal).bfda4373-87ff-11ef-b7cd-b48c9d378590.jpg\n",
      "Collecting images for looking on screen or thinking (Normal), image number 7\n",
      "data\\images\\looking on screen or thinking (Normal).bfda4374-87ff-11ef-9101-b48c9d378590.jpg\n",
      "Collecting images for looking on screen or thinking (Normal), image number 8\n",
      "data\\images\\looking on screen or thinking (Normal).bfda4375-87ff-11ef-b7db-b48c9d378590.jpg\n",
      "Collecting images for looking on screen or thinking (Normal), image number 9\n",
      "data\\images\\looking on screen or thinking (Normal).bfda4376-87ff-11ef-a0b7-b48c9d378590.jpg\n",
      "Collecting images for looking on screen or thinking (Normal), image number 10\n",
      "data\\images\\looking on screen or thinking (Normal).bfda4377-87ff-11ef-a9c2-b48c9d378590.jpg\n",
      "Collecting images for looking on screen or thinking (Normal), image number 11\n",
      "data\\images\\looking on screen or thinking (Normal).bfda4378-87ff-11ef-9414-b48c9d378590.jpg\n",
      "Collecting images for looking on screen or thinking (Normal), image number 12\n",
      "data\\images\\looking on screen or thinking (Normal).bfda4379-87ff-11ef-a82d-b48c9d378590.jpg\n",
      "Collecting images for looking on screen or thinking (Normal), image number 13\n",
      "data\\images\\looking on screen or thinking (Normal).bfda437a-87ff-11ef-b0d5-b48c9d378590.jpg\n",
      "Collecting images for looking on screen or thinking (Normal), image number 14\n",
      "data\\images\\looking on screen or thinking (Normal).bfda437b-87ff-11ef-b26e-b48c9d378590.jpg\n"
     ]
    }
   ],
   "source": [
    "for label in labels:\n",
    "    print('Collecting images for {}'.format(label))\n",
    "    for img_num in range(number_imgs):\n",
    "        print('Collecting images for {}, image number {}'.format(label, img_num))\n",
    "        imgname = os.path.join(IMAGES_PATH, label+'.'+str(uuid.uuid1())+'.jpg')\n",
    "        print(imgname)   "
   ]
  },
  {
   "cell_type": "markdown",
   "metadata": {},
   "source": [
    "### Labelling Images"
   ]
  },
  {
   "cell_type": "code",
   "execution_count": 17,
   "metadata": {},
   "outputs": [
    {
     "name": "stderr",
     "output_type": "stream",
     "text": [
      "Cloning into 'labelImg'...\n"
     ]
    }
   ],
   "source": [
    "# Cloning Image Labelling GitHub repository\n",
    "!git clone https://github.com/tzutalin/labelImg"
   ]
  },
  {
   "cell_type": "code",
   "execution_count": 1,
   "metadata": {},
   "outputs": [],
   "source": [
    "!cd labelImg && pyrcc5 -o libs/resources.py resources.qrc"
   ]
  },
  {
   "cell_type": "code",
   "execution_count": null,
   "metadata": {},
   "outputs": [],
   "source": [
    "!cd yolov5 && python train.py --img 320 --batch 16 --epochs 300 --data dataset.yml --weights yolov5s.pt --workers 2"
   ]
  },
  {
   "cell_type": "markdown",
   "metadata": {},
   "source": [
    "### Loading and testing new YOLOv5 model in real-time"
   ]
  },
  {
   "cell_type": "code",
   "execution_count": null,
   "metadata": {},
   "outputs": [],
   "source": [
    "new_model = torch.hub.load('ultralytics/yolov5', 'custom', path='yolov5/runs/train/exp6/weights/last.pt', force_reload=True)"
   ]
  },
  {
   "cell_type": "code",
   "execution_count": null,
   "metadata": {},
   "outputs": [],
   "source": [
    "# Testing the new YOLOv5 model\n",
    "\n",
    "final_cap = cv2.VideoCapture(0)\n",
    "final_cap.set(cv2.CAP_PROP_FPS, 30)\n",
    "\n",
    "while final_cap.isOpened():\n",
    "    ret2, frame2 = final_cap.read()\n",
    "    \n",
    "    # Make detections \n",
    "    final_results = new_model(frame2)\n",
    "    \n",
    "    cv2.imshow('VisionProctor', np.squeeze(final_results.render()))\n",
    "    \n",
    "    if cv2.waitKey(10) & 0xFF == ord('q'):\n",
    "        break\n",
    "final_cap.release()\n",
    "cv2.destroyAllWindows()"
   ]
  },
  {
   "cell_type": "markdown",
   "metadata": {},
   "source": [
    "### Testing model on webcam-recorded video"
   ]
  },
  {
   "cell_type": "code",
   "execution_count": null,
   "metadata": {},
   "outputs": [],
   "source": [
    "# Using model on webcam-recorded video\n",
    "\n",
    "# Path to your input video file\n",
    "video_path = 'demo-videos\\input-video.mp4' \n",
    "\n",
    "# Start capturing from the video\n",
    "final_cap = cv2.VideoCapture(video_path)\n",
    "\n",
    "# Get video properties (width, height, FPS) for saving the output video\n",
    "frame_width = int(final_cap.get(cv2.CAP_PROP_FRAME_WIDTH))\n",
    "frame_height = int(final_cap.get(cv2.CAP_PROP_FRAME_HEIGHT))\n",
    "fps = final_cap.get(cv2.CAP_PROP_FPS)\n",
    "\n",
    "# Create VideoWriter object to save output video\n",
    "output_path = 'demo-videos\\output_video.mp4'  # Path to save the output video\n",
    "fourcc = cv2.VideoWriter_fourcc(*'mp4v')  # Codec for MP4 video\n",
    "out = cv2.VideoWriter(output_path, fourcc, fps, (frame_width, frame_height))\n",
    "\n",
    "while final_cap.isOpened():\n",
    "    ret2, frame2 = final_cap.read()\n",
    "    \n",
    "    if not ret2:\n",
    "        break\n",
    "\n",
    "    # Make detections\n",
    "    final_results = new_model(frame2)\n",
    "    \n",
    "    # Get the frame with rendered bounding boxes\n",
    "    result_frame = np.squeeze(final_results.render())\n",
    "    \n",
    "    # Write the frame to the output video file\n",
    "    out.write(result_frame)\n",
    "    \n",
    "    # Display the resulting frame with bounding boxes (optional)\n",
    "    cv2.imshow('VisionProctor', result_frame)\n",
    "    \n",
    "    # Exit on pressing 'q'\n",
    "    if cv2.waitKey(10) & 0xFF == ord('q'):\n",
    "        break\n",
    "\n",
    "# Releasing resources\n",
    "final_cap.release()\n",
    "out.release()  # Releasing the video writer\n",
    "cv2.destroyAllWindows()"
   ]
  }
 ],
 "metadata": {
  "kernelspec": {
   "display_name": "Python 3",
   "language": "python",
   "name": "python3"
  },
  "language_info": {
   "codemirror_mode": {
    "name": "ipython",
    "version": 3
   },
   "file_extension": ".py",
   "mimetype": "text/x-python",
   "name": "python",
   "nbconvert_exporter": "python",
   "pygments_lexer": "ipython3",
   "version": "3.12.5"
  }
 },
 "nbformat": 4,
 "nbformat_minor": 2
}
